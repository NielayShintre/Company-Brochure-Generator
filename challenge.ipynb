{
 "cells": [
  {
   "cell_type": "code",
   "execution_count": 101,
   "id": "9816f7ec-2db6-4acf-8bed-bd60f6cd6d56",
   "metadata": {},
   "outputs": [],
   "source": [
    "import os\n",
    "import requests\n",
    "import json\n",
    "from typing import List\n",
    "from dotenv import load_dotenv\n",
    "from bs4 import BeautifulSoup\n",
    "from IPython.display import Markdown, display, update_display\n",
    "from openai import OpenAI"
   ]
  },
  {
   "cell_type": "code",
   "execution_count": 102,
   "id": "b524833f-00cf-46ca-bc20-f42cf51187c6",
   "metadata": {},
   "outputs": [
    {
     "name": "stdout",
     "output_type": "stream",
     "text": [
      "API key looks good so far\n"
     ]
    }
   ],
   "source": [
    "load_dotenv(override=True)\n",
    "api_key = os.getenv('OPENAI_API_KEY')\n",
    "\n",
    "if api_key and api_key.startswith('sk-proj-') and len(api_key)>10:\n",
    "    print(\"API key looks good so far\")\n",
    "else:\n",
    "    print(\"There might be a problem with your API key? Please visit the troubleshooting notebook!\")\n",
    "    \n",
    "MODEL = 'gpt-4o-mini'\n",
    "openai = OpenAI()"
   ]
  },
  {
   "cell_type": "code",
   "execution_count": 112,
   "id": "d533c733-1f05-4513-b970-f157339b1d62",
   "metadata": {},
   "outputs": [],
   "source": [
    "# Some websites need you to use proper headers when fetching them:\n",
    "headers = {\n",
    " \"User-Agent\": \"Mozilla/5.0 (Windows NT 10.0; Win64; x64) AppleWebKit/537.36 (KHTML, like Gecko) Chrome/117.0.0.0 Safari/537.36\"\n",
    "}\n",
    "\n",
    "class Website:\n",
    "\n",
    "    def __init__(self, url):\n",
    "        self.url = url\n",
    "        response = requests.get(url, headers)\n",
    "        self.body = response.content\n",
    "        soup = BeautifulSoup(self.body, \"html.parser\")\n",
    "        self.title = soup.title.string if soup.title else \"No title found\"\n",
    "        if soup.body:\n",
    "            for garbage in soup.body([\"img\", \"script\", \"input\", \"style\"]):\n",
    "                garbage.decompose()\n",
    "                self.text = soup.body.get_text(separator=\"\\n\",strip=True)\n",
    "        else:\n",
    "            self.text = \"\"\n",
    "\n",
    "        links = [link.get(\"href\") for link in soup.find_all(\"a\")]\n",
    "        self.links = [link for link in links if link]\n",
    "\n",
    "    def getContents(self):\n",
    "        return f\"Webpage Title:\\n{self.title}\\nWebpage Contents:\\n{self.text}\\n\\n\"\n",
    "    "
   ]
  },
  {
   "cell_type": "code",
   "execution_count": 113,
   "id": "1e1e8773-4517-4e77-b01a-3f6a2eafb1d4",
   "metadata": {
    "scrolled": true
   },
   "outputs": [
    {
     "data": {
      "text/plain": [
       "['/legal/aup',\n",
       " 'https://trust.anthropic.com/',\n",
       " '/research',\n",
       " 'https://support.anthropic.com/',\n",
       " '/news/claude-for-enterprise',\n",
       " '/legal/commercial-terms',\n",
       " 'https://status.anthropic.com/',\n",
       " '/company',\n",
       " '/news/3-5-models-and-computer-use',\n",
       " '/claude/haiku',\n",
       " 'https://www.linkedin.com/company/anthropicresearch',\n",
       " '/team',\n",
       " '/pricing',\n",
       " '/customers',\n",
       " '/news/core-views-on-ai-safety',\n",
       " 'https://www.anthropic.com/claude',\n",
       " 'mailto:press@anthropic.com',\n",
       " '/',\n",
       " '/enterprise',\n",
       " '/jobs',\n",
       " '/responsible-disclosure-policy',\n",
       " '/claude/sonnet',\n",
       " '/research/constitutional-ai-harmlessness-from-ai-feedback',\n",
       " 'https://claude.ai/',\n",
       " 'https://twitter.com/AnthropicAI',\n",
       " '/news',\n",
       " '/legal/privacy',\n",
       " 'https://www.anthropic.com/research#entry:8@1:url',\n",
       " '/supported-countries',\n",
       " '/claude',\n",
       " '/api',\n",
       " 'https://www.youtube.com/@anthropic-ai',\n",
       " '/legal/consumer-terms',\n",
       " '/careers']"
      ]
     },
     "execution_count": 113,
     "metadata": {},
     "output_type": "execute_result"
    }
   ],
   "source": [
    "anthropic = website(\"https://www.anthropic.com\")\n",
    "anthropic.links"
   ]
  },
  {
   "cell_type": "code",
   "execution_count": 114,
   "id": "d3a49d5e-21a8-4fac-a159-fc80ca778421",
   "metadata": {
    "scrolled": true
   },
   "outputs": [
    {
     "name": "stdout",
     "output_type": "stream",
     "text": [
      "\n",
      "You are given a list of links from a company website. Your task is to decide which links are relevant to include in the company brochure. Review the links and select only those that best represent the company’s core content, such as the About page, Careers page, Products/Services page, and similar. Avoid links like contact forms, blog posts, legal pages, or support pages that do not directly contribute to a high-level company overview.\n",
      "\n",
      "You should respond in JSON exactly in the format shown in the examples below. Do not include any extra text.\n",
      "\n",
      "Example 1:\n",
      "Input Links:\n",
      "[\n",
      "    \"https://company.com/about\",\n",
      "    \"https://company.com/contact\",\n",
      "    \"https://company.com/products\",\n",
      "    \"https://company.com/blog\"\n",
      "]\n",
      "Expected JSON Output:\n",
      "{\n",
      "    \"links\": [\n",
      "        {\"type\": \"about page\", \"url\": \"https://company.com/about\"},\n",
      "        {\"type\": \"products page\", \"url\": \"https://company.com/products\"}\n",
      "    ]\n",
      "}\n",
      "\n",
      "Example 2:\n",
      "Input Links:\n",
      "[\n",
      "    \"https://company.com/careers\",\n",
      "    \"https://company.com/legal\",\n",
      "    \"https://company.com/support\"\n",
      "]\n",
      "Expected JSON Output:\n",
      "{\n",
      "    \"links\": [\n",
      "        {\"type\": \"careers page\", \"url\": \"https://company.com/careers\"}\n",
      "    ]\n",
      "}\n",
      "\n",
      "Example 3:\n",
      "Input Links:\n",
      "[\n",
      "    \"https://company.com/about-us\",\n",
      "    \"https://company.com/team\",\n",
      "    \"https://company.com/press\",\n",
      "    \"https://company.com/privacy\"\n",
      "]\n",
      "Expected JSON Output:\n",
      "{\n",
      "    \"links\": [\n",
      "        {\"type\": \"about page\", \"url\": \"https://company.com/about-us\"},\n",
      "        {\"type\": \"team page\", \"url\": \"https://company.com/team\"},\n",
      "        {\"type\": \"press page\", \"url\": \"https://company.com/press\"}\n",
      "    ]\n",
      "}\n",
      "\n"
     ]
    }
   ],
   "source": [
    "system_prompt = \"\"\"\n",
    "You are given a list of links from a company website. Your task is to decide which links are relevant to include in the company brochure. Review the links and select only those that best represent the company’s core content, such as the About page, Careers page, Products/Services page, and similar. Avoid links like contact forms, blog posts, legal pages, or support pages that do not directly contribute to a high-level company overview.\n",
    "\n",
    "You should respond in JSON exactly in the format shown in the examples below. Do not include any extra text.\n",
    "\n",
    "Example 1:\n",
    "Input Links:\n",
    "[\n",
    "    \"https://company.com/about\",\n",
    "    \"https://company.com/contact\",\n",
    "    \"https://company.com/products\",\n",
    "    \"https://company.com/blog\"\n",
    "]\n",
    "Expected JSON Output:\n",
    "{\n",
    "    \"links\": [\n",
    "        {\"type\": \"about page\", \"url\": \"https://company.com/about\"},\n",
    "        {\"type\": \"products page\", \"url\": \"https://company.com/products\"}\n",
    "    ]\n",
    "}\n",
    "\n",
    "Example 2:\n",
    "Input Links:\n",
    "[\n",
    "    \"https://company.com/careers\",\n",
    "    \"https://company.com/legal\",\n",
    "    \"https://company.com/support\"\n",
    "]\n",
    "Expected JSON Output:\n",
    "{\n",
    "    \"links\": [\n",
    "        {\"type\": \"careers page\", \"url\": \"https://company.com/careers\"}\n",
    "    ]\n",
    "}\n",
    "\n",
    "Example 3:\n",
    "Input Links:\n",
    "[\n",
    "    \"https://company.com/about-us\",\n",
    "    \"https://company.com/team\",\n",
    "    \"https://company.com/press\",\n",
    "    \"https://company.com/privacy\"\n",
    "]\n",
    "Expected JSON Output:\n",
    "{\n",
    "    \"links\": [\n",
    "        {\"type\": \"about page\", \"url\": \"https://company.com/about-us\"},\n",
    "        {\"type\": \"team page\", \"url\": \"https://company.com/team\"},\n",
    "        {\"type\": \"press page\", \"url\": \"https://company.com/press\"}\n",
    "    ]\n",
    "}\n",
    "\"\"\"\n",
    "print(system_prompt)"
   ]
  },
  {
   "cell_type": "code",
   "execution_count": 122,
   "id": "5e05e16e-d8ec-4f74-93c4-f5ccbccc55d3",
   "metadata": {},
   "outputs": [],
   "source": [
    "def get_links_user_prompt(website):\n",
    "    user_prompt = f\"Here is the list of links on the website of {website.url} - \"\n",
    "    user_prompt += \"please decide which of these are relevant web links for a brochure about the company, respond with the full https URL in JSON format. \\\n",
    "Do not include Terms of Service, Privacy, email links.\\n\"\n",
    "    user_prompt += \"Links (some might be relative links):\\n\"\n",
    "    user_prompt += \"\\n\".join(website.links)\n",
    "    return user_prompt"
   ]
  },
  {
   "cell_type": "code",
   "execution_count": 123,
   "id": "096cf1d9-5717-42e9-874e-36bf1f1ee13b",
   "metadata": {},
   "outputs": [],
   "source": [
    "def get_links(url):\n",
    "    website = Website(url)\n",
    "    response = openai.chat.completions.create(\n",
    "        model=MODEL,\n",
    "        messages=[\n",
    "            {\"role\": \"system\", \"content\": system_prompt},\n",
    "            {\"role\": \"user\", \"content\": get_links_user_prompt(website)}\n",
    "        ],\n",
    "        response_format={\"type\": \"json_object\"}\n",
    "    )\n",
    "    \n",
    "    result = json.loads(response.choices[0].message.content)\n",
    "    \n",
    "    # Ensure 'links' key exists\n",
    "    if \"links\" not in result:\n",
    "        print(\"Error: 'links' key missing in OpenAI response. Returning empty list.\")\n",
    "        return {\"links\": []}  # Prevent KeyError by returning an empty list\n",
    "    \n",
    "    return result\n"
   ]
  },
  {
   "cell_type": "code",
   "execution_count": 124,
   "id": "2cbd6bff-d6ec-47c4-b87b-2c8d56dc0c48",
   "metadata": {},
   "outputs": [],
   "source": [
    "def get_all_details(url):\n",
    "    result = \"Landing page:\\n\"\n",
    "    result += Website(url).getContents()\n",
    "    \n",
    "    links = get_links(url)\n",
    "    print(\"Found links:\", links)\n",
    "    \n",
    "    if not links.get(\"links\"):  # Check if \"links\" key exists and is not empty\n",
    "        print(\"No relevant links found.\")\n",
    "        return result  # Return only the landing page contents\n",
    "    \n",
    "    for link in links[\"links\"]:\n",
    "        result += f\"\\n\\n{link.get('type', 'Unknown type')}\\n\"\n",
    "        result += Website(link[\"url\"]).getContents()\n",
    "    \n",
    "    return result\n"
   ]
  },
  {
   "cell_type": "code",
   "execution_count": 125,
   "id": "b9e7071f-f86b-4ceb-8a35-b6c347f7deee",
   "metadata": {},
   "outputs": [],
   "source": [
    "system_prompt = \"You are an assistant that analyzes the contents of several relevant pages from a company website \\\n",
    "and creates a short humorous, entertaining, jokey brochure about the company for prospective customers, investors and recruits. Respond in markdown.\\\n",
    "Include details of company culture, customers and careers/jobs if you have the information.\""
   ]
  },
  {
   "cell_type": "code",
   "execution_count": 126,
   "id": "94dc3950-bd3c-4bfc-9cf7-6b912b8567f2",
   "metadata": {},
   "outputs": [],
   "source": [
    "def get_brochure_user_prompt(company_name, url):  \n",
    "    user_prompt = f\"You are looking at a company called: {company_name}\\n\"\n",
    "    user_prompt += f\"Here are the contents of its landing page and other relevant pages; use this information to build a short company brochure in markdown.\\n\"\n",
    "    user_prompt += get_all_details(url)\n",
    "    user_prompt = user_prompt[:5_000]\n",
    "    return user_prompt\n",
    "    "
   ]
  },
  {
   "cell_type": "code",
   "execution_count": 127,
   "id": "485715c5-4613-4753-9a4e-d4f79ffbb1ae",
   "metadata": {},
   "outputs": [],
   "source": [
    "def create_brochure(company_name, url):\n",
    "    response = openai.chat.completions.create(\n",
    "        model=MODEL,\n",
    "        messages=[\n",
    "            {\"role\": \"system\", \"content\": system_prompt},\n",
    "            {\"role\": \"user\", \"content\": get_brochure_user_prompt(company_name, url)}\n",
    "          ],\n",
    "    )\n",
    "    result = response.choices[0].message.content\n",
    "    display(Markdown(result))"
   ]
  },
  {
   "cell_type": "code",
   "execution_count": 128,
   "id": "aaab57f3-5fda-4c33-b106-3da42d4bc36e",
   "metadata": {},
   "outputs": [
    {
     "name": "stdout",
     "output_type": "stream",
     "text": [
      "Error: 'links' key missing in OpenAI response. Returning empty list.\n",
      "Found links: {'links': []}\n",
      "No relevant links found.\n"
     ]
    },
    {
     "data": {
      "text/markdown": [
       "# Welcome to Hugging Face: Where the Future Gets a Hug! 🤗\n",
       "\n",
       "## Who Are We?\n",
       "**Hugging Face** is not just a name; it’s a feeling! We are the quirky AI community buzzing with energy and ideas, building the future one model at a time. Here, we aren't just about algorithms and data; we believe in hugging it out - even with our machines! \n",
       "\n",
       "## Our Hug-otastic Offerings\n",
       "\n",
       "### 🤖 Models\n",
       "With over **1 million models** to choose from, there's something for everyone. From deep learning to small learning (yes, that's a thing!), we've got the state-of-the-art tools. Want to hang out with **Janus-Pro-7B** or have a heart-to-heart with **Kokoro TTS**? Join the fun!\n",
       "\n",
       "### 📊 Datasets\n",
       "Datasets are the bread and butter of AI, and we've baked over **250,000 of them**! Whether you're into dolphins, thoughts, or custom recipes, we’ve got the data for your cravings.\n",
       "\n",
       "### 🌌 Spaces\n",
       "“Spaces” isn’t just for astronauts; it’s where you can run cool applications like **Text-to-3D** and embrace your inner digital magician! Watch as your text transforms into spectrums of 3D awesomeness right before your eyes! 🎇\n",
       "\n",
       "## Join Our Community of Innovators\n",
       "We boast a family of over **50,000 organizations** that trust us for their ML adventures, including major players like Google, Amazon, and Microsoft. Seriously, if we had a family reunion, you’d want to bring a LOT of chairs! 🪑\n",
       "\n",
       "## Hugging Culture\n",
       "At Hugging Face, we foster a vibrant, collaborative culture where everyone is encouraged to share ideas, beliefs, and the occasional hug - virtually, of course! Our teams grow together, learn together, and probably consume a few too many donuts together. (Calories don’t count in the metaverse, right?)\n",
       "\n",
       "## Careers: Let's Get Cozy Together!\n",
       "Looking for a career that feels like a warm embrace? We’re on the hunt for creative minds and tech-savvy explorers. Come join us at Hugging Face for a job where everyday feels like a Saturday! Explore opportunities where you can build, innovate, and maybe even create your own space for *Text-to-Candy*! 🍬\n",
       "\n",
       "**No suits required. Just bring your enthusiasm!**\n",
       "\n",
       "## In Conclusion\n",
       "Why pick Hugging Face? Because we blend laughter, collaboration, and groundbreaking technology into everything we do! So, whether you're a budding engineer, an investor searching for the next big thing, or someone looking for friendship with some laughs – we welcome you to the Hugging Community! 🤝\n",
       "\n",
       "**Join us! Let’s build a future that even robots would be excited to hug!**"
      ],
      "text/plain": [
       "<IPython.core.display.Markdown object>"
      ]
     },
     "metadata": {},
     "output_type": "display_data"
    }
   ],
   "source": [
    "create_brochure(\"HuggingFace\", \"https://huggingface.co\")"
   ]
  },
  {
   "cell_type": "code",
   "execution_count": 129,
   "id": "c3ffbe11-2a78-4fc8-9d53-bfc63b0655d5",
   "metadata": {},
   "outputs": [],
   "source": [
    "def stream_brochure(company_name, url):\n",
    "    stream = openai.chat.completions.create(\n",
    "        model=MODEL,\n",
    "        messages=[\n",
    "            {\"role\": \"system\", \"content\": system_prompt},\n",
    "            {\"role\": \"user\", \"content\": get_brochure_user_prompt(company_name, url)}\n",
    "          ],\n",
    "        stream=True\n",
    "    )\n",
    "    \n",
    "    response = \"\"\n",
    "    display_handle = display(Markdown(\"\"), display_id=True)\n",
    "    for chunk in stream:\n",
    "        response += chunk.choices[0].delta.content or ''\n",
    "        response = response.replace(\"```\",\"\").replace(\"markdown\", \"\")\n",
    "        update_display(Markdown(response), display_id=display_handle.display_id)"
   ]
  },
  {
   "cell_type": "code",
   "execution_count": 130,
   "id": "461740c8-1f6a-4ab7-ab0a-58d26d8fa8a3",
   "metadata": {},
   "outputs": [
    {
     "name": "stdout",
     "output_type": "stream",
     "text": [
      "Error: 'links' key missing in OpenAI response. Returning empty list.\n",
      "Found links: {'links': []}\n",
      "No relevant links found.\n"
     ]
    },
    {
     "data": {
      "text/markdown": [
       "\n",
       "# Welcome to Hugging Face: Where AI Hugs Back!\n",
       "\n",
       "## Who Are We?\n",
       "At Hugging Face, we’re not just another tech company – we’re the friendly neighborhood AI community building the future! 🌍 Here, we don’t just throw algorithms at the wall and see if they stick. We create, collaborate, and caffeinate (with only the finest of coffees, of course!) on cutting-edge models, datasets, and applications.\n",
       "\n",
       "## Company Culture\n",
       "We believe in teamwork, transparency, and a sprinkle of fun! Our team is a mix of data wranglers, AI wizards, and model maestros who enjoy hugging (metaphorically) more than just machines. Join us if you like to sprinkle your workday with humor and hands-on collaboration! \n",
       "\n",
       "### What’s Cooking?\n",
       "- **Flexible Work Hours**: So you can work when your brain is buzzing at max efficiency.\n",
       "- **Team Outings**: Occasionally, we escape from our screens for some team bonding (serious business, like competitive Mario Kart).\n",
       "- **Open Source Love**: We’re passionate about contributing to the open-source community. Our motto? Why keep greatness to ourselves?\n",
       "\n",
       "## Our Customers\n",
       "Over **50,000 organizations** (not just cool kids, but major companies like Google, Microsoft, and Amazon) are already on the Hugging Face bandwagon! 🚀 They trust us to help shape the future with our jaw-dropping models and datasets.\n",
       "\n",
       "### The Who’s Who of Hugging Face:\n",
       "- AI at Meta has 2,060 models (yes, they’re flexing).\n",
       "- Grammarly graced us with 10 models – and you thought they only checked your grammar!\n",
       "- And we even have a **non-profit** – Ai2 – joining the fun to ensure AI doesn’t just become the next superhero; it becomes a team player.\n",
       "\n",
       "## Careers with Us\n",
       "🤖 Looking for a job? Grab your cape! We’ll supply the challenges, and you bring your superhero skills!\n",
       "\n",
       "- **Job Openings**: We’re always on the lookout for innovative thinkers who want to be part of the AI revolution. Check out our website for **super awesome** roles.\n",
       "- **Learning & Growth**: We support your growth like a sturdy LEGO tower—no wobbly bricks here!\n",
       "\n",
       "### Extras: \n",
       "- **Convert to AI-ntastic**! Whether you want to dabble in text-to-3D wizardry or perfect your coding skills, we got courses, resources, and all the studying snacks you can handle!\n",
       "\n",
       "## Join Us!\n",
       "So, whether you’re looking to build **AI wonders**, **join a spirited team**, or simply find a community that gives the best *virtual hugs* (trust us, AI can take it!), look no further! We’re ready to take on the world together—one model, one dataset, and one hug at a time!\n",
       "\n",
       "---\n",
       "\n",
       "### Hugging Face – Where Future Meets Fun! \n",
       "- **Sign Up** for collaboration \n",
       "- **Explore** 1M+ models and growing! \n",
       "- **Join** a community that hugs!\n",
       "\n",
       "*P.S.: No actual hugging required... unless you want to! 😉*\n"
      ],
      "text/plain": [
       "<IPython.core.display.Markdown object>"
      ]
     },
     "metadata": {},
     "output_type": "display_data"
    }
   ],
   "source": [
    "stream_brochure(\"HuggingFace\", \"https://huggingface.co\")"
   ]
  },
  {
   "cell_type": "code",
   "execution_count": null,
   "id": "0368f612-b44e-4319-a9a6-59f1ebe9d652",
   "metadata": {},
   "outputs": [],
   "source": []
  }
 ],
 "metadata": {
  "kernelspec": {
   "display_name": "Python 3 (ipykernel)",
   "language": "python",
   "name": "python3"
  },
  "language_info": {
   "codemirror_mode": {
    "name": "ipython",
    "version": 3
   },
   "file_extension": ".py",
   "mimetype": "text/x-python",
   "name": "python",
   "nbconvert_exporter": "python",
   "pygments_lexer": "ipython3",
   "version": "3.11.11"
  }
 },
 "nbformat": 4,
 "nbformat_minor": 5
}
