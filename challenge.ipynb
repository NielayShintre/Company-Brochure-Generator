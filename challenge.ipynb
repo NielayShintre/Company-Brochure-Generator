{
 "cells": [
  {
   "cell_type": "code",
   "execution_count": 6,
   "id": "9816f7ec-2db6-4acf-8bed-bd60f6cd6d56",
   "metadata": {},
   "outputs": [],
   "source": [
    "import os\n",
    "import requests\n",
    "import json\n",
    "from typing import List\n",
    "from dotenv import load_dotenv\n",
    "from bs4 import BeautifulSoup\n",
    "from IPython.display import Markdown, display, update_display\n",
    "from openai import OpenAI\n",
    "import gradio as gr"
   ]
  },
  {
   "cell_type": "code",
   "execution_count": 7,
   "id": "b524833f-00cf-46ca-bc20-f42cf51187c6",
   "metadata": {},
   "outputs": [
    {
     "name": "stdout",
     "output_type": "stream",
     "text": [
      "API key looks good so far\n"
     ]
    }
   ],
   "source": [
    "load_dotenv(override=True)\n",
    "api_key = os.getenv('OPENAI_API_KEY')\n",
    "\n",
    "if api_key and api_key.startswith('sk-proj-') and len(api_key)>10:\n",
    "    print(\"API key looks good so far\")\n",
    "else:\n",
    "    print(\"There might be a problem with your API key? Please visit the troubleshooting notebook!\")\n",
    "    \n",
    "MODEL = 'gpt-4o-mini'\n",
    "openai = OpenAI()"
   ]
  },
  {
   "cell_type": "code",
   "execution_count": 8,
   "id": "d533c733-1f05-4513-b970-f157339b1d62",
   "metadata": {},
   "outputs": [],
   "source": [
    "# Some websites need you to use proper headers when fetching them:\n",
    "headers = {\n",
    " \"User-Agent\": \"Mozilla/5.0 (Windows NT 10.0; Win64; x64) AppleWebKit/537.36 (KHTML, like Gecko) Chrome/117.0.0.0 Safari/537.36\"\n",
    "}\n",
    "\n",
    "class Website:\n",
    "\n",
    "    def __init__(self, url):\n",
    "        self.url = url\n",
    "        response = requests.get(url, headers)\n",
    "        self.body = response.content\n",
    "        soup = BeautifulSoup(self.body, \"html.parser\")\n",
    "        self.title = soup.title.string if soup.title else \"No title found\"\n",
    "        if soup.body:\n",
    "            for garbage in soup.body([\"img\", \"script\", \"input\", \"style\"]):\n",
    "                garbage.decompose()\n",
    "                self.text = soup.body.get_text(separator=\"\\n\",strip=True)\n",
    "        else:\n",
    "            self.text = \"\"\n",
    "\n",
    "        links = [link.get(\"href\") for link in soup.find_all(\"a\")]\n",
    "        self.links = [link for link in links if link]\n",
    "\n",
    "    def getContents(self):\n",
    "        return f\"Webpage Title:\\n{self.title}\\nWebpage Contents:\\n{self.text}\\n\\n\"\n",
    "    "
   ]
  },
  {
   "cell_type": "code",
   "execution_count": 55,
   "id": "1e1e8773-4517-4e77-b01a-3f6a2eafb1d4",
   "metadata": {
    "scrolled": true
   },
   "outputs": [],
   "source": [
    "# anthropic = website(\"https://www.anthropic.com\")\n",
    "# anthropic.links"
   ]
  },
  {
   "cell_type": "code",
   "execution_count": 54,
   "id": "d3a49d5e-21a8-4fac-a159-fc80ca778421",
   "metadata": {
    "scrolled": true
   },
   "outputs": [],
   "source": [
    "system_prompt = \"\"\"\n",
    "You are given a list of links from a company website. Your task is to decide which links are relevant to include in the company brochure. Review the links and select only those that best represent the company’s core content, such as the About page, Careers page, Products/Services page, and similar. Avoid links like contact forms, blog posts, legal pages, or support pages that do not directly contribute to a high-level company overview.\n",
    "\n",
    "You should respond in JSON exactly in the format shown in the examples below. Do not include any extra text.\n",
    "\n",
    "Example 1:\n",
    "Input Links:\n",
    "[\n",
    "    \"https://company.com/about\",\n",
    "    \"https://company.com/contact\",\n",
    "    \"https://company.com/products\",\n",
    "    \"https://company.com/blog\"\n",
    "]\n",
    "Expected JSON Output:\n",
    "{\n",
    "    \"links\": [\n",
    "        {\"type\": \"about page\", \"url\": \"https://company.com/about\"},\n",
    "        {\"type\": \"products page\", \"url\": \"https://company.com/products\"}\n",
    "    ]\n",
    "}\n",
    "\n",
    "Example 2:\n",
    "Input Links:\n",
    "[\n",
    "    \"https://company.com/careers\",\n",
    "    \"https://company.com/legal\",\n",
    "    \"https://company.com/support\"\n",
    "]\n",
    "Expected JSON Output:\n",
    "{\n",
    "    \"links\": [\n",
    "        {\"type\": \"careers page\", \"url\": \"https://company.com/careers\"}\n",
    "    ]\n",
    "}\n",
    "\n",
    "Example 3:\n",
    "Input Links:\n",
    "[\n",
    "    \"https://company.com/about-us\",\n",
    "    \"https://company.com/team\",\n",
    "    \"https://company.com/press\",\n",
    "    \"https://company.com/privacy\"\n",
    "]\n",
    "Expected JSON Output:\n",
    "{\n",
    "    \"links\": [\n",
    "        {\"type\": \"about page\", \"url\": \"https://company.com/about-us\"},\n",
    "        {\"type\": \"team page\", \"url\": \"https://company.com/team\"},\n",
    "        {\"type\": \"press page\", \"url\": \"https://company.com/press\"}\n",
    "    ]\n",
    "}\n",
    "\"\"\""
   ]
  },
  {
   "cell_type": "code",
   "execution_count": 9,
   "id": "5e05e16e-d8ec-4f74-93c4-f5ccbccc55d3",
   "metadata": {},
   "outputs": [],
   "source": [
    "def get_links_user_prompt(website):\n",
    "    user_prompt = f\"Here is the list of links on the website of {website.url} - \"\n",
    "    user_prompt += \"please decide which of these are relevant web links for a brochure about the company, respond with the full https URL in JSON format. \\\n",
    "Do not include Terms of Service, Privacy, email links.\\n\"\n",
    "    user_prompt += \"Links (some might be relative links):\\n\"\n",
    "    user_prompt += \"\\n\".join(website.links)\n",
    "    return user_prompt"
   ]
  },
  {
   "cell_type": "code",
   "execution_count": 10,
   "id": "096cf1d9-5717-42e9-874e-36bf1f1ee13b",
   "metadata": {},
   "outputs": [],
   "source": [
    "def get_links(url):\n",
    "    website = Website(url)\n",
    "    response = openai.chat.completions.create(\n",
    "        model=MODEL,\n",
    "        messages=[\n",
    "            {\"role\": \"system\", \"content\": system_prompt},\n",
    "            {\"role\": \"user\", \"content\": get_links_user_prompt(website)}\n",
    "        ],\n",
    "        response_format={\"type\": \"json_object\"}\n",
    "    )\n",
    "    \n",
    "    result = json.loads(response.choices[0].message.content)\n",
    "    \n",
    "    # Ensure 'links' key exists\n",
    "    if \"links\" not in result:\n",
    "        print(\"Error: 'links' key missing in OpenAI response. Returning empty list.\")\n",
    "        return {\"links\": []}  # Prevent KeyError by returning an empty list\n",
    "    \n",
    "    return result\n"
   ]
  },
  {
   "cell_type": "code",
   "execution_count": 11,
   "id": "2cbd6bff-d6ec-47c4-b87b-2c8d56dc0c48",
   "metadata": {},
   "outputs": [],
   "source": [
    "def get_all_details(url):\n",
    "    result = \"Landing page:\\n\"\n",
    "    result += Website(url).getContents()\n",
    "    \n",
    "    links = get_links(url)\n",
    "    print(\"Found links:\", links)\n",
    "    \n",
    "    if not links.get(\"links\"):  # Check if \"links\" key exists and is not empty\n",
    "        print(\"No relevant links found.\")\n",
    "        return result  # Return only the landing page contents\n",
    "    \n",
    "    for link in links[\"links\"]:\n",
    "        result += f\"\\n\\n{link.get('type', 'Unknown type')}\\n\"\n",
    "        result += Website(link[\"url\"]).getContents()\n",
    "    \n",
    "    return result\n"
   ]
  },
  {
   "cell_type": "code",
   "execution_count": 125,
   "id": "b9e7071f-f86b-4ceb-8a35-b6c347f7deee",
   "metadata": {},
   "outputs": [],
   "source": [
    "system_prompt = \"You are an assistant that analyzes the contents of several relevant pages from a company website \\\n",
    "and creates a short humorous, entertaining, jokey brochure about the company for prospective customers, investors and recruits. Respond in markdown.\\\n",
    "If you have the information, include details of company culture, customers and careers/jobs.\""
   ]
  },
  {
   "cell_type": "code",
   "execution_count": 126,
   "id": "94dc3950-bd3c-4bfc-9cf7-6b912b8567f2",
   "metadata": {},
   "outputs": [],
   "source": [
    "def get_brochure_user_prompt(company_name, url):  \n",
    "    user_prompt = f\"You are looking at a company called: {company_name}\\n\"\n",
    "    user_prompt += f\"Here are the contents of its landing page and other relevant pages; use this information to build a short company brochure in markdown.\\n\"\n",
    "    user_prompt += get_all_details(url)\n",
    "    user_prompt = user_prompt[:5_000]\n",
    "    return user_prompt\n",
    "    "
   ]
  },
  {
   "cell_type": "code",
   "execution_count": 127,
   "id": "485715c5-4613-4753-9a4e-d4f79ffbb1ae",
   "metadata": {},
   "outputs": [],
   "source": [
    "def create_brochure(company_name, url):\n",
    "    response = openai.chat.completions.create(\n",
    "        model=MODEL,\n",
    "        messages=[\n",
    "            {\"role\": \"system\", \"content\": system_prompt},\n",
    "            {\"role\": \"user\", \"content\": get_brochure_user_prompt(company_name, url)}\n",
    "          ],\n",
    "    )\n",
    "    result = response.choices[0].message.content\n",
    "    display(Markdown(result))"
   ]
  },
  {
   "cell_type": "code",
   "execution_count": 40,
   "id": "c3ffbe11-2a78-4fc8-9d53-bfc63b0655d5",
   "metadata": {
    "scrolled": true
   },
   "outputs": [],
   "source": [
    "# A class to represent a Webpage\n",
    "\n",
    "class Website:\n",
    "    url: str\n",
    "    title: str\n",
    "    text: str\n",
    "\n",
    "    def __init__(self, url):\n",
    "        self.url = url\n",
    "        response = requests.get(url)\n",
    "        self.body = response.content\n",
    "        soup = BeautifulSoup(self.body, 'html.parser')\n",
    "        self.title = soup.title.string if soup.title else \"No title found\"\n",
    "        for irrelevant in soup.body([\"script\", \"style\", \"img\", \"input\"]):\n",
    "            irrelevant.decompose()\n",
    "        self.text = soup.body.get_text(separator=\"\\n\", strip=True)\n",
    "\n",
    "    def get_contents(self):\n",
    "        return f\"Webpage Title:\\n{self.title}\\nWebpage Contents:\\n{self.text}\\n\\n\""
   ]
  },
  {
   "cell_type": "code",
   "execution_count": 51,
   "id": "22a967d6-a11c-4e99-88ea-62afa916eb4d",
   "metadata": {},
   "outputs": [],
   "source": [
    "system_message = \"You are a helpful assistant that responds in markdown\"\n",
    "def stream_gpt(prompt):\n",
    "    messages = [\n",
    "        {\"role\": \"system\", \"content\": system_message},\n",
    "        {\"role\": \"user\", \"content\": prompt}\n",
    "      ]\n",
    "    stream = openai.chat.completions.create(\n",
    "        model='gpt-4o-mini',\n",
    "        messages=messages,\n",
    "        stream=True\n",
    "    )\n",
    "    result = \"\"\n",
    "    for chunk in stream:\n",
    "        result += chunk.choices[0].delta.content or \"\"\n",
    "        yield result"
   ]
  },
  {
   "cell_type": "code",
   "execution_count": 52,
   "id": "706f6b97-7037-4edb-9b07-0779b5324de5",
   "metadata": {},
   "outputs": [],
   "source": [
    "# A function to create a brochure by combining website contents with a prompt.\n",
    "def stream_brochure(company_name, url):\n",
    "    prompt = (\n",
    "        f\"You are an assistant that analyzes the contents of several relevant pages from {company_name} \"\n",
    "        f\"(located at {url}) and creates a short humorous, entertaining, jokey brochure about the company \"\n",
    "        \"for prospective customers, investors, and recruits. Respond in markdown. \"\n",
    "        \"If you have the information, include details of company culture, customers, and careers/jobs.\"\n",
    "    )\n",
    "    # Append the website's contents to the prompt.\n",
    "    prompt += Website(url).get_contents()\n",
    "    \n",
    "    # Choose the streaming method based on the global 'model' variable.\n",
    "    if MODEL:\n",
    "        result = stream_gpt(prompt)\n",
    "    else:\n",
    "        raise ValueError(\"Unknown model\")\n",
    "    yield from result"
   ]
  },
  {
   "cell_type": "code",
   "execution_count": 56,
   "id": "b6b0ab19-a92d-4d48-a955-d054d93ae671",
   "metadata": {},
   "outputs": [],
   "source": [
    "view = gr.Interface(\n",
    "    fn=stream_brochure,\n",
    "    inputs=[\n",
    "        gr.Textbox(label=\"Company name:\"),\n",
    "        gr.Textbox(label=\"Landing page URL including http:// or https://\")],\n",
    "    outputs=[gr.Markdown(label=\"Brochure:\")],\n",
    "    flagging_mode=\"never\"\n",
    ")\n",
    "view.launch()"
   ]
  },
  {
   "cell_type": "code",
   "execution_count": null,
   "id": "fb734d0e-cf14-4675-a4cf-08708ee159d4",
   "metadata": {},
   "outputs": [],
   "source": []
  }
 ],
 "metadata": {
  "kernelspec": {
   "display_name": "Python 3 (ipykernel)",
   "language": "python",
   "name": "python3"
  },
  "language_info": {
   "codemirror_mode": {
    "name": "ipython",
    "version": 3
   },
   "file_extension": ".py",
   "mimetype": "text/x-python",
   "name": "python",
   "nbconvert_exporter": "python",
   "pygments_lexer": "ipython3",
   "version": "3.11.11"
  }
 },
 "nbformat": 4,
 "nbformat_minor": 5
}
